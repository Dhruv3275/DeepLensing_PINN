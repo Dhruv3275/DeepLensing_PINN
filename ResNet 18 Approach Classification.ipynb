{
 "cells": [
  {
   "cell_type": "code",
   "execution_count": 22,
   "metadata": {
    "execution": {
     "iopub.execute_input": "2025-03-25T13:23:16.230255Z",
     "iopub.status.busy": "2025-03-25T13:23:16.229805Z",
     "iopub.status.idle": "2025-03-25T13:23:16.235036Z",
     "shell.execute_reply": "2025-03-25T13:23:16.233905Z",
     "shell.execute_reply.started": "2025-03-25T13:23:16.230205Z"
    }
   },
   "outputs": [],
   "source": [
    "import numpy as np\n",
    "import matplotlib.pyplot as plt\n",
    "import torch\n",
    "from torch import nn \n",
    "import torchvision\n",
    "import torchvision.transforms as transforms\n",
    "from torchvision.datasets import ImageFolder\n",
    "import torchvision.models as models\n",
    "from torch.utils.data import TensorDataset, ConcatDataset, DataLoader,Subset\n",
    "from sklearn.model_selection import KFold\n",
    "import os\n",
    "from torchinfo import summary"
   ]
  },
  {
   "cell_type": "code",
   "execution_count": 23,
   "metadata": {
    "execution": {
     "iopub.execute_input": "2025-03-25T13:23:16.236738Z",
     "iopub.status.busy": "2025-03-25T13:23:16.236359Z",
     "iopub.status.idle": "2025-03-25T13:23:16.249139Z",
     "shell.execute_reply": "2025-03-25T13:23:16.248358Z",
     "shell.execute_reply.started": "2025-03-25T13:23:16.236706Z"
    }
   },
   "outputs": [],
   "source": [
    "device = \"cuda\" if torch.cuda.is_available() else \"cpu\""
   ]
  },
  {
   "cell_type": "code",
   "execution_count": 24,
   "metadata": {
    "execution": {
     "iopub.execute_input": "2025-03-25T13:23:16.250643Z",
     "iopub.status.busy": "2025-03-25T13:23:16.250293Z",
     "iopub.status.idle": "2025-03-25T13:23:16.262888Z",
     "shell.execute_reply": "2025-03-25T13:23:16.262286Z",
     "shell.execute_reply.started": "2025-03-25T13:23:16.250617Z"
    }
   },
   "outputs": [],
   "source": [
    "# dataset_path = \"/kaggle/input/dataset-gsoc12/dataset/train/sphere\"\n",
    "# npy_files = sorted([f for f in os.listdir(dataset_path) if f.endswith('.npy')])\n",
    "# data_array_1 = np.array([np.load(os.path.join(dataset_path, f)) for f in npy_files])\n",
    "\n",
    "# # Print shape of the final array\n",
    "# print(f\"Loaded {len(npy_files)} files into NumPy array of shape: {data_array_1.shape}\")\n"
   ]
  },
  {
   "cell_type": "code",
   "execution_count": 25,
   "metadata": {
    "execution": {
     "iopub.execute_input": "2025-03-25T13:23:16.263805Z",
     "iopub.status.busy": "2025-03-25T13:23:16.263585Z",
     "iopub.status.idle": "2025-03-25T13:23:16.279949Z",
     "shell.execute_reply": "2025-03-25T13:23:16.279406Z",
     "shell.execute_reply.started": "2025-03-25T13:23:16.263786Z"
    }
   },
   "outputs": [],
   "source": [
    "class ResNet18(nn.Module):\n",
    "    def __init__(self, num_classes=3):\n",
    "        super(ResNet18, self).__init__()\n",
    "        \n",
    "        resnet18 = models.resnet18(pretrained=True)\n",
    "        self.features = nn.Sequential(*list(resnet18.children())[:-2])\n",
    "        self.avgpool = nn.AdaptiveAvgPool2d(1)\n",
    "        in_features = resnet18.fc.in_features \n",
    "        self.fc = nn.Linear(in_features, num_classes)\n",
    "\n",
    "    def forward(self, x):\n",
    "        x = self.features(x)\n",
    "        x = self.avgpool(x)\n",
    "        x = x.view(x.size(0), -1)\n",
    "        x = self.fc(x)\n",
    "        return x\n"
   ]
  },
  {
   "cell_type": "code",
   "execution_count": 27,
   "metadata": {
    "execution": {
     "iopub.execute_input": "2025-03-25T13:23:16.298379Z",
     "iopub.status.busy": "2025-03-25T13:23:16.298150Z",
     "iopub.status.idle": "2025-03-25T13:23:16.321260Z",
     "shell.execute_reply": "2025-03-25T13:23:16.320623Z",
     "shell.execute_reply.started": "2025-03-25T13:23:16.298361Z"
    }
   },
   "outputs": [],
   "source": [
    "torch.cuda.empty_cache()"
   ]
  },
  {
   "cell_type": "code",
   "execution_count": 28,
   "metadata": {
    "execution": {
     "iopub.execute_input": "2025-03-25T13:23:16.323442Z",
     "iopub.status.busy": "2025-03-25T13:23:16.323234Z",
     "iopub.status.idle": "2025-03-25T13:23:16.875367Z",
     "shell.execute_reply": "2025-03-25T13:23:16.874476Z",
     "shell.execute_reply.started": "2025-03-25T13:23:16.323424Z"
    }
   },
   "outputs": [
    {
     "name": "stderr",
     "output_type": "stream",
     "text": [
      "/usr/local/lib/python3.10/dist-packages/torchvision/models/_utils.py:208: UserWarning: The parameter 'pretrained' is deprecated since 0.13 and may be removed in the future, please use 'weights' instead.\n",
      "  warnings.warn(\n",
      "/usr/local/lib/python3.10/dist-packages/torchvision/models/_utils.py:223: UserWarning: Arguments other than a weight enum or `None` for 'weights' are deprecated since 0.13 and may be removed in the future. The current behavior is equivalent to passing `weights=ResNet18_Weights.IMAGENET1K_V1`. You can also use `weights=ResNet18_Weights.DEFAULT` to get the most up-to-date weights.\n",
      "  warnings.warn(msg)\n",
      "Downloading: \"https://download.pytorch.org/models/resnet18-f37072fd.pth\" to /root/.cache/torch/hub/checkpoints/resnet18-f37072fd.pth\n",
      "100%|██████████| 44.7M/44.7M [00:00<00:00, 213MB/s]\n"
     ]
    }
   ],
   "source": [
    "encoder = ResNet18(num_classes=3).to(device)\n"
   ]
  },
  {
   "cell_type": "code",
   "execution_count": 29,
   "metadata": {
    "execution": {
     "iopub.execute_input": "2025-03-25T13:23:16.876901Z",
     "iopub.status.busy": "2025-03-25T13:23:16.876611Z",
     "iopub.status.idle": "2025-03-25T13:23:16.880987Z",
     "shell.execute_reply": "2025-03-25T13:23:16.880139Z",
     "shell.execute_reply.started": "2025-03-25T13:23:16.876877Z"
    }
   },
   "outputs": [],
   "source": [
    "transformer=transforms.Compose([\n",
    "    transforms.Resize((150,150)),\n",
    "    transforms.RandomHorizontalFlip(),\n",
    "    transforms.RandomRotation(degrees=10),\n",
    "    transforms.ToTensor(),  #0-255 to 0-1, numpy to tensors\n",
    "    transforms.Normalize([0.5,0.5,0.5], # 0-1 to [-1,1] , formula (x-mean)/std\n",
    "                        [0.5,0.5,0.5])\n",
    "])"
   ]
  },
  {
   "cell_type": "code",
   "execution_count": 30,
   "metadata": {
    "execution": {
     "iopub.execute_input": "2025-03-25T13:23:16.882262Z",
     "iopub.status.busy": "2025-03-25T13:23:16.881957Z",
     "iopub.status.idle": "2025-03-25T13:23:16.897933Z",
     "shell.execute_reply": "2025-03-25T13:23:16.897127Z",
     "shell.execute_reply.started": "2025-03-25T13:23:16.882231Z"
    }
   },
   "outputs": [],
   "source": [
    "# Mentioning training path\n",
    "train_path = '/kaggle/input/gsoc123/new_dataset/train'"
   ]
  },
  {
   "cell_type": "code",
   "execution_count": 31,
   "metadata": {
    "execution": {
     "iopub.execute_input": "2025-03-25T13:23:16.898818Z",
     "iopub.status.busy": "2025-03-25T13:23:16.898616Z",
     "iopub.status.idle": "2025-03-25T13:23:49.109009Z",
     "shell.execute_reply": "2025-03-25T13:23:49.108360Z",
     "shell.execute_reply.started": "2025-03-25T13:23:16.898800Z"
    }
   },
   "outputs": [],
   "source": [
    "class_folders = torchvision.datasets.ImageFolder(train_path,transform=transformer)"
   ]
  },
  {
   "cell_type": "code",
   "execution_count": 32,
   "metadata": {
    "execution": {
     "iopub.execute_input": "2025-03-25T13:23:49.109871Z",
     "iopub.status.busy": "2025-03-25T13:23:49.109666Z",
     "iopub.status.idle": "2025-03-25T13:23:49.113262Z",
     "shell.execute_reply": "2025-03-25T13:23:49.112392Z",
     "shell.execute_reply.started": "2025-03-25T13:23:49.109852Z"
    }
   },
   "outputs": [],
   "source": [
    "from torch.optim.lr_scheduler import StepLR\n",
    "# Define the scheduler\n"
   ]
  },
  {
   "cell_type": "code",
   "execution_count": 33,
   "metadata": {
    "execution": {
     "iopub.execute_input": "2025-03-25T13:23:49.114258Z",
     "iopub.status.busy": "2025-03-25T13:23:49.113970Z",
     "iopub.status.idle": "2025-03-25T13:23:49.132959Z",
     "shell.execute_reply": "2025-03-25T13:23:49.132365Z",
     "shell.execute_reply.started": "2025-03-25T13:23:49.114214Z"
    }
   },
   "outputs": [],
   "source": [
    "def CNN_train(epochs,class_folders, num_folds, lr):\n",
    "    loss_fn = nn.CrossEntropyLoss()\n",
    "    train_acc_values = []\n",
    "    best_accuracy = 0.0\n",
    "    test_acc_values = []\n",
    "    num_epochs = epochs\n",
    "    epoch_count = []\n",
    "    iteration_details = [] \n",
    "    optimizer = torch.optim.Adam(encoder.parameters(), lr=lr, weight_decay=1e-4)\n",
    "    scheduler = StepLR(optimizer, step_size=10, gamma=0.1, verbose=True)\n",
    "\n",
    "    # Initialize KFold object\n",
    "    kf = KFold(n_splits=num_folds, shuffle=True)\n",
    "    \n",
    "    # Loop through each fold\n",
    "    for fold, (train_index, val_index) in enumerate(kf.split(class_folders)):\n",
    "        print(f\"Fold {fold + 1}/{num_folds}\")\n",
    "        \n",
    "        dataset_train = Subset(class_folders, train_index)\n",
    "        dataset_valid = Subset(class_folders, val_index)\n",
    "    \n",
    "        train_loader = torch.utils.data.DataLoader(\n",
    "            dataset_train, batch_size=64, shuffle=True\n",
    "        )\n",
    "        val_loader = torch.utils.data.DataLoader(\n",
    "            dataset_valid, batch_size=32, shuffle=True\n",
    "        )\n",
    "        \n",
    "        # Training loop\n",
    "        for epoch in range(num_epochs):\n",
    "            # Set model to training mode\n",
    "            encoder.train()\n",
    "            \n",
    "            train_accuracy = 0.0\n",
    "            train_loss = 0.0\n",
    "            \n",
    "            for i, (images, labels) in enumerate(train_loader):\n",
    "                if torch.cuda.is_available():\n",
    "                    images = images.cuda()\n",
    "                    labels = labels.cuda()\n",
    "                \n",
    "                optimizer.zero_grad()\n",
    "                outputs = encoder(images)\n",
    "                loss = loss_fn(outputs, labels)\n",
    "                loss.backward()\n",
    "                optimizer.step()\n",
    "                \n",
    "                train_loss += loss.item() * images.size(0)\n",
    "                _, prediction = torch.max(outputs.data, 1)\n",
    "                train_accuracy += int(torch.sum(prediction == labels.data))\n",
    "            \n",
    "            train_accuracy = train_accuracy / len(train_index)\n",
    "            train_loss = train_loss / len(train_index)\n",
    "            \n",
    "            # Validation loop\n",
    "            encoder.eval()\n",
    "            \n",
    "            val_accuracy = 0.0\n",
    "            val_loss = 0.0\n",
    "            \n",
    "            for i, (images, labels) in enumerate(val_loader):\n",
    "                if torch.cuda.is_available():\n",
    "                    images = images.cuda()\n",
    "                    labels = labels.cuda()\n",
    "                \n",
    "                outputs = encoder(images)\n",
    "                loss = loss_fn(outputs, labels)\n",
    "                val_loss += loss.item()* images.size(0)  # Accumulate the loss\n",
    "                _, prediction = torch.max(outputs.data, 1)\n",
    "                val_accuracy += int(torch.sum(prediction == labels.data))\n",
    "                \n",
    "            # Compute average loss and accuracy\n",
    "            val_loss /= len(val_index)\n",
    "            val_accuracy = val_accuracy / len(val_index)\n",
    "            \n",
    "            # Step the scheduler\n",
    "            scheduler.step()\n",
    "            \n",
    "            print(f\"Epoch [{epoch + 1}/{num_epochs}], Train Loss: {train_loss:.3f}, Train Accuracy: {train_accuracy:.3f}, Val Loss: {val_loss:.3f}, Validation Accuracy: {val_accuracy:.3f}\")\n",
    "            \n",
    "            # Save the best model\n",
    "            if val_accuracy > best_accuracy:\n",
    "                torch.save(encoder.state_dict(), 'best_model.pth')\n",
    "                best_accuracy = val_accuracy\n",
    "                \n",
    "    print(f\"Best Validation Accuracy: {best_accuracy}\")"
   ]
  },
  {
   "cell_type": "code",
   "execution_count": 34,
   "metadata": {
    "execution": {
     "iopub.execute_input": "2025-03-25T13:23:49.133985Z",
     "iopub.status.busy": "2025-03-25T13:23:49.133730Z",
     "iopub.status.idle": "2025-03-25T14:14:21.510498Z",
     "shell.execute_reply": "2025-03-25T14:14:21.509604Z",
     "shell.execute_reply.started": "2025-03-25T13:23:49.133952Z"
    }
   },
   "outputs": [
    {
     "name": "stderr",
     "output_type": "stream",
     "text": [
      "/usr/local/lib/python3.10/dist-packages/torch/optim/lr_scheduler.py:62: UserWarning: The verbose parameter is deprecated. Please use get_last_lr() to access the learning rate.\n",
      "  warnings.warn(\n"
     ]
    },
    {
     "name": "stdout",
     "output_type": "stream",
     "text": [
      "Fold 1/10\n",
      "Epoch [1/3], Train Loss: 1.081, Train Accuracy: 0.387, Val Loss: 0.999, Validation Accuracy: 0.466\n",
      "Epoch [2/3], Train Loss: 0.825, Train Accuracy: 0.603, Val Loss: 0.872, Validation Accuracy: 0.669\n",
      "Epoch [3/3], Train Loss: 0.575, Train Accuracy: 0.761, Val Loss: 0.563, Validation Accuracy: 0.774\n",
      "Fold 2/10\n",
      "Epoch [1/3], Train Loss: 0.471, Train Accuracy: 0.811, Val Loss: 0.604, Validation Accuracy: 0.766\n",
      "Epoch [2/3], Train Loss: 0.431, Train Accuracy: 0.831, Val Loss: 0.425, Validation Accuracy: 0.833\n",
      "Epoch [3/3], Train Loss: 0.399, Train Accuracy: 0.846, Val Loss: 0.373, Validation Accuracy: 0.858\n",
      "Fold 3/10\n",
      "Epoch [1/3], Train Loss: 0.366, Train Accuracy: 0.860, Val Loss: 0.434, Validation Accuracy: 0.825\n",
      "Epoch [2/3], Train Loss: 0.355, Train Accuracy: 0.864, Val Loss: 0.346, Validation Accuracy: 0.868\n",
      "Epoch [3/3], Train Loss: 0.339, Train Accuracy: 0.868, Val Loss: 0.418, Validation Accuracy: 0.833\n",
      "Fold 4/10\n",
      "Epoch [1/3], Train Loss: 0.327, Train Accuracy: 0.876, Val Loss: 0.315, Validation Accuracy: 0.883\n",
      "Epoch [2/3], Train Loss: 0.243, Train Accuracy: 0.910, Val Loss: 0.220, Validation Accuracy: 0.915\n",
      "Epoch [3/3], Train Loss: 0.219, Train Accuracy: 0.917, Val Loss: 0.217, Validation Accuracy: 0.917\n",
      "Fold 5/10\n",
      "Epoch [1/3], Train Loss: 0.213, Train Accuracy: 0.923, Val Loss: 0.184, Validation Accuracy: 0.937\n",
      "Epoch [2/3], Train Loss: 0.198, Train Accuracy: 0.929, Val Loss: 0.184, Validation Accuracy: 0.934\n",
      "Epoch [3/3], Train Loss: 0.198, Train Accuracy: 0.928, Val Loss: 0.186, Validation Accuracy: 0.930\n",
      "Fold 6/10\n",
      "Epoch [1/3], Train Loss: 0.186, Train Accuracy: 0.931, Val Loss: 0.186, Validation Accuracy: 0.937\n",
      "Epoch [2/3], Train Loss: 0.180, Train Accuracy: 0.934, Val Loss: 0.176, Validation Accuracy: 0.935\n",
      "Epoch [3/3], Train Loss: 0.174, Train Accuracy: 0.937, Val Loss: 0.172, Validation Accuracy: 0.936\n",
      "Fold 7/10\n",
      "Epoch [1/3], Train Loss: 0.174, Train Accuracy: 0.937, Val Loss: 0.156, Validation Accuracy: 0.941\n",
      "Epoch [2/3], Train Loss: 0.172, Train Accuracy: 0.937, Val Loss: 0.158, Validation Accuracy: 0.941\n",
      "Epoch [3/3], Train Loss: 0.158, Train Accuracy: 0.942, Val Loss: 0.144, Validation Accuracy: 0.944\n",
      "Fold 8/10\n",
      "Epoch [1/3], Train Loss: 0.149, Train Accuracy: 0.946, Val Loss: 0.136, Validation Accuracy: 0.955\n",
      "Epoch [2/3], Train Loss: 0.147, Train Accuracy: 0.948, Val Loss: 0.139, Validation Accuracy: 0.951\n",
      "Epoch [3/3], Train Loss: 0.147, Train Accuracy: 0.947, Val Loss: 0.134, Validation Accuracy: 0.950\n",
      "Fold 9/10\n",
      "Epoch [1/3], Train Loss: 0.146, Train Accuracy: 0.947, Val Loss: 0.131, Validation Accuracy: 0.953\n",
      "Epoch [2/3], Train Loss: 0.143, Train Accuracy: 0.948, Val Loss: 0.133, Validation Accuracy: 0.954\n",
      "Epoch [3/3], Train Loss: 0.142, Train Accuracy: 0.948, Val Loss: 0.130, Validation Accuracy: 0.948\n",
      "Fold 10/10\n",
      "Epoch [1/3], Train Loss: 0.144, Train Accuracy: 0.948, Val Loss: 0.125, Validation Accuracy: 0.956\n",
      "Epoch [2/3], Train Loss: 0.141, Train Accuracy: 0.948, Val Loss: 0.114, Validation Accuracy: 0.959\n",
      "Epoch [3/3], Train Loss: 0.139, Train Accuracy: 0.950, Val Loss: 0.118, Validation Accuracy: 0.955\n",
      "Best Validation Accuracy: 0.959\n"
     ]
    }
   ],
   "source": [
    "results =CNN_train(3,class_folders,10,0.001)"
   ]
  },
  {
   "cell_type": "code",
   "execution_count": 35,
   "metadata": {
    "execution": {
     "iopub.execute_input": "2025-03-25T14:14:21.511717Z",
     "iopub.status.busy": "2025-03-25T14:14:21.511461Z",
     "iopub.status.idle": "2025-03-25T14:14:46.318070Z",
     "shell.execute_reply": "2025-03-25T14:14:46.317149Z",
     "shell.execute_reply.started": "2025-03-25T14:14:21.511695Z"
    }
   },
   "outputs": [
    {
     "data": {
      "image/png": "[encoded data removed]",
      "text/plain": [
       "<Figure size 640x480 with 1 Axes>"
      ]
     },
     "metadata": {},
     "output_type": "display_data"
    }
   ],
   "source": [
    "test_path='/kaggle/input/gsoc123/new_dataset/val'\n",
    "test_loader=DataLoader(\n",
    "    torchvision.datasets.ImageFolder(test_path,transform=transformer),\n",
    "    batch_size=32, shuffle=True\n",
    ")\n",
    "import numpy as np\n",
    "import matplotlib.pyplot as plt\n",
    "from sklearn.metrics import roc_curve, auc\n",
    "from sklearn.preprocessing import label_binarize\n",
    "\n",
    "y_score_list = []\n",
    "y_true_list = []\n",
    "\n",
    "# Evaluate model\n",
    "encoder.eval()\n",
    "for images, labels in test_loader:\n",
    "    if torch.cuda.is_available():\n",
    "        images = images.cuda()\n",
    "        labels = labels.cuda()\n",
    "\n",
    "    with torch.no_grad():\n",
    "        y_score_batch = encoder(images)\n",
    "    \n",
    "    y_score_list.append(y_score_batch.cpu().numpy())\n",
    "    y_true_list.append(labels.cpu().numpy())\n",
    "\n",
    "y_score = np.vstack(y_score_list)\n",
    "y_true = np.hstack(y_true_list)\n",
    "\n",
    "# Binarize the ground truth labels\n",
    "y_true_bin = label_binarize(y_true, classes=np.unique(y_true))\n",
    "\n",
    "# Compute ROC curve and ROC area for each class\n",
    "n_classes = y_score.shape[1]\n",
    "fpr = dict()\n",
    "tpr = dict()\n",
    "roc_auc = dict()\n",
    "\n",
    "for i in range(n_classes):\n",
    "    fpr[i], tpr[i], _ = roc_curve(y_true_bin[:, i], y_score[:, i])\n",
    "    roc_auc[i] = auc(fpr[i], tpr[i])\n",
    "\n",
    "# Compute micro-average ROC curve and ROC area\n",
    "fpr[\"micro\"], tpr[\"micro\"], _ = roc_curve(y_true_bin.ravel(), y_score.ravel())\n",
    "roc_auc[\"micro\"] = auc(fpr[\"micro\"], tpr[\"micro\"])\n",
    "\n",
    "# Plot ROC curve\n",
    "plt.figure()\n",
    "plt.plot(fpr[\"micro\"], tpr[\"micro\"], color='deeppink', lw=2, label=f'ROC curve (micro-AUC = {roc_auc[\"micro\"]:0.2f})')\n",
    "plt.plot([0, 1], [0, 1], color='navy', lw=2, linestyle='--')\n",
    "plt.xlim([0.0, 1.0])\n",
    "plt.ylim([0.0, 1.05])\n",
    "plt.xlabel('False Positive Rate')\n",
    "plt.ylabel('True Positive Rate')\n",
    "plt.title('Receiver Operating Characteristic (ROC) Curve (Multiclass)')\n",
    "plt.legend(loc='lower right')\n",
    "plt.show()"
   ]
  }
 ],
 "metadata": {
  "kaggle": {
   "accelerator": "nvidiaTeslaT4",
   "dataSources": [
    {
     "datasetId": 6940750,
     "sourceId": 11129051,
     "sourceType": "datasetVersion"
    }
   ],
   "dockerImageVersionId": 30919,
   "isGpuEnabled": true,
   "isInternetEnabled": true,
   "language": "python",
   "sourceType": "notebook"
  },
  "kernelspec": {
   "display_name": "Python 3 (ipykernel)",
   "language": "python",
   "name": "python3"
  },
  "language_info": {
   "codemirror_mode": {
    "name": "ipython",
    "version": 3
   },
   "file_extension": ".py",
   "mimetype": "text/x-python",
   "name": "python",
   "nbconvert_exporter": "python",
   "pygments_lexer": "ipython3",
   "version": "3.8.18"
  }
 },
 "nbformat": 4,
 "nbformat_minor": 4
}
