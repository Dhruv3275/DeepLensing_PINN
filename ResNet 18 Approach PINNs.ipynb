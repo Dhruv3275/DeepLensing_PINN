{
 "cells": [
  {
   "cell_type": "code",
   "execution_count": null,
   "metadata": {},
   "outputs": [],
   "source": [
    "import numpy as np\n",
    "import matplotlib.pyplot as plt\n",
    "import torch\n",
    "from torch import nn \n",
    "import torchvision\n",
    "import torchvision.transforms as transforms\n",
    "from torchvision.datasets import ImageFolder\n",
    "import torchvision.models as models\n",
    "from torch.utils.data import TensorDataset, ConcatDataset, DataLoader,Subset\n",
    "from sklearn.model_selection import KFold\n",
    "import os\n",
    "from torchinfo import summary"
   ]
  },
  {
   "cell_type": "code",
   "execution_count": 4,
   "metadata": {
    "execution": {
     "iopub.execute_input": "2025-03-26T14:28:20.152876Z",
     "iopub.status.busy": "2025-03-26T14:28:20.152670Z",
     "iopub.status.idle": "2025-03-26T14:28:20.156398Z",
     "shell.execute_reply": "2025-03-26T14:28:20.155440Z",
     "shell.execute_reply.started": "2025-03-26T14:28:20.152858Z"
    }
   },
   "outputs": [],
   "source": [
    "device = \"cuda\" if torch.cuda.is_available() else \"cpu\""
   ]
  },
  {
   "cell_type": "code",
   "execution_count": 5,
   "metadata": {
    "execution": {
     "iopub.execute_input": "2025-03-26T14:28:20.158198Z",
     "iopub.status.busy": "2025-03-26T14:28:20.157901Z",
     "iopub.status.idle": "2025-03-26T14:28:20.175114Z",
     "shell.execute_reply": "2025-03-26T14:28:20.174419Z",
     "shell.execute_reply.started": "2025-03-26T14:28:20.158169Z"
    }
   },
   "outputs": [],
   "source": [
    "class DeepLens(nn.Module):\n",
    "    def __init__(self,normalized_r2):\n",
    "        super(DeepLens, self).__init__()\n",
    "        self.normalized_r2 = normalized_r2\n",
    "        \n",
    "    # Step 2: Use another ResNet-18 for vector A\n",
    "        self.resnet_A = models.resnet18(pretrained=True)\n",
    "        \n",
    "#         for param in self.resnet_B.parameters():  # Freeze ResNet-18 parameters\n",
    "#             param.requires_grad = False\n",
    "            \n",
    "        self.features_A = nn.Sequential(*list(self.resnet_A.children())[:-2])\n",
    "        self.features_A.add_module('flatten', nn.Flatten())\n",
    "        self.features_A.add_module('dropout', nn.Dropout(p=0.4))  # Adding dropout layer\n",
    "        self.relu = nn.ReLU(inplace=True)\n",
    "        self.features_A.add_module('linear', nn.Linear(12800, 22500))\n",
    "        \n",
    "    # Step 3: Use another ResNet-18 for vector B\n",
    "        self.resnet_B = models.resnet18(pretrained=True)\n",
    "        \n",
    "#         for param in self.resnet_B.parameters():  # Freeze ResNet-18 parameters\n",
    "#             param.requires_grad = False\n",
    "            \n",
    "        self.features_B = nn.Sequential(*list(self.resnet_B.children())[:-2])\n",
    "        self.features_B.add_module('flatten', nn.Flatten())\n",
    "        self.features_B.add_module('dropout', nn.Dropout(p=0.4))  # Adding dropout layer\n",
    "#         self.relu = nn.ReLU(inplace=True)\n",
    "        self.features_B.add_module('linear', nn.Linear(12800, 22500))\n",
    "        \n",
    "        # Step 5: Neural layer and softmax\n",
    "        \n",
    "        self.neural_layer1 = nn.Linear(22500,5625 )\n",
    "        self.neural_layer2 = nn.Linear(5625, 128)\n",
    "        self.neural_layer3 = nn.Linear(128, 3)\n",
    "        self.dropout = nn.Dropout(p=0.4)  # Adding dropout layer\n",
    "\n",
    "    def forward(self, x):\n",
    "\n",
    "        # Step 2: Extract features A\n",
    "    \n",
    "        features_A = self.features_A(x)\n",
    "        features_A = self.relu(features_A)\n",
    "        features_A = features_A.view(features_A.size(0), -1)\n",
    "        \n",
    "        # Step 3: Extract features B\n",
    "    \n",
    "        features_B = self.features_B(x)\n",
    "        features_B = self.relu(features_B)\n",
    "        features_B = features_B.view(features_B.size(0), -1)\n",
    "        \n",
    "        # Step 4: Physics equation C = I - B * (distance from center of image) (treated as constant)\n",
    "        C = features_A - features_B * (self.normalized_r2)\n",
    "        \n",
    "        # Step 5: Neural layer and softmax\n",
    "        output = self.neural_layer1(C)\n",
    "        output = self.relu(output)\n",
    "        output = self.dropout(output)\n",
    "        \n",
    "        output = self.neural_layer2(output)\n",
    "        output = self.relu(output)\n",
    "        output = self.dropout(output) # Applying dropout\n",
    "        \n",
    "        output = self.neural_layer3(output)\n",
    "        \n",
    "        return output"
   ]
  },
  {
   "cell_type": "code",
   "execution_count": 6,
   "metadata": {
    "execution": {
     "iopub.execute_input": "2025-03-26T14:28:20.176157Z",
     "iopub.status.busy": "2025-03-26T14:28:20.175873Z",
     "iopub.status.idle": "2025-03-26T14:28:20.196153Z",
     "shell.execute_reply": "2025-03-26T14:28:20.195360Z",
     "shell.execute_reply.started": "2025-03-26T14:28:20.176115Z"
    }
   },
   "outputs": [],
   "source": [
    "torch.cuda.empty_cache()"
   ]
  },
  {
   "cell_type": "code",
   "execution_count": 7,
   "metadata": {
    "execution": {
     "iopub.execute_input": "2025-03-26T14:28:20.197224Z",
     "iopub.status.busy": "2025-03-26T14:28:20.196934Z",
     "iopub.status.idle": "2025-03-26T14:28:20.532498Z",
     "shell.execute_reply": "2025-03-26T14:28:20.531692Z",
     "shell.execute_reply.started": "2025-03-26T14:28:20.197204Z"
    }
   },
   "outputs": [
    {
     "name": "stdout",
     "output_type": "stream",
     "text": [
      "Size of dis tensor: torch.Size([22500])\n"
     ]
    }
   ],
   "source": [
    "grid_size = 150\n",
    "\n",
    "# Initialize an empty tensor to store distances\n",
    "r2 = torch.zeros(grid_size * grid_size)\n",
    "\n",
    "# Compute distances for each pixel(SIS)\n",
    "for i in range(grid_size):\n",
    "    for j in range(grid_size):\n",
    "        r2[grid_size * i + j] = ((74.5 - i) ** 2 + (74.5 - j) ** 2)\n",
    "\n",
    "# Verify the size of dis\n",
    "print(\"Size of dis tensor:\", r2.size())\n",
    "\n",
    "# Find the maximum value in the r2 tensor\n",
    "max_r2 = r2.max()\n",
    "normalized_r2 = r2/max_r2\n",
    "\n",
    "# Move r2 tensor to CUDA if available\n",
    "normalized_r2 = normalized_r2.cuda()"
   ]
  },
  {
   "cell_type": "code",
   "execution_count": 8,
   "metadata": {
    "execution": {
     "iopub.execute_input": "2025-03-26T14:28:20.533428Z",
     "iopub.status.busy": "2025-03-26T14:28:20.533220Z",
     "iopub.status.idle": "2025-03-26T14:28:27.966781Z",
     "shell.execute_reply": "2025-03-26T14:28:27.966074Z",
     "shell.execute_reply.started": "2025-03-26T14:28:20.533411Z"
    }
   },
   "outputs": [
    {
     "name": "stderr",
     "output_type": "stream",
     "text": [
      "/usr/local/lib/python3.10/dist-packages/torchvision/models/_utils.py:208: UserWarning: The parameter 'pretrained' is deprecated since 0.13 and may be removed in the future, please use 'weights' instead.\n",
      "  warnings.warn(\n",
      "/usr/local/lib/python3.10/dist-packages/torchvision/models/_utils.py:223: UserWarning: Arguments other than a weight enum or `None` for 'weights' are deprecated since 0.13 and may be removed in the future. The current behavior is equivalent to passing `weights=ResNet18_Weights.IMAGENET1K_V1`. You can also use `weights=ResNet18_Weights.DEFAULT` to get the most up-to-date weights.\n",
      "  warnings.warn(msg)\n",
      "Downloading: \"https://download.pytorch.org/models/resnet18-f37072fd.pth\" to /root/.cache/torch/hub/checkpoints/resnet18-f37072fd.pth\n",
      "100%|██████████| 44.7M/44.7M [00:00<00:00, 177MB/s]\n"
     ]
    }
   ],
   "source": [
    "encoder = DeepLens(normalized_r2).to(device)\n",
    "# summary(encoder,(3,150,150))"
   ]
  },
  {
   "cell_type": "code",
   "execution_count": 9,
   "metadata": {
    "execution": {
     "iopub.execute_input": "2025-03-26T14:28:27.967674Z",
     "iopub.status.busy": "2025-03-26T14:28:27.967458Z",
     "iopub.status.idle": "2025-03-26T14:28:27.971972Z",
     "shell.execute_reply": "2025-03-26T14:28:27.971090Z",
     "shell.execute_reply.started": "2025-03-26T14:28:27.967656Z"
    }
   },
   "outputs": [],
   "source": [
    "transformer=transforms.Compose([\n",
    "    transforms.Resize((150,150)),\n",
    "    transforms.RandomHorizontalFlip(),\n",
    "    transforms.RandomRotation(degrees=10),\n",
    "    transforms.ToTensor(),  #0-255 to 0-1, numpy to tensors\n",
    "    transforms.Normalize([0.5,0.5,0.5], # 0-1 to [-1,1] , formula (x-mean)/std\n",
    "                        [0.5,0.5,0.5])\n",
    "])"
   ]
  },
  {
   "cell_type": "code",
   "execution_count": 10,
   "metadata": {
    "execution": {
     "iopub.execute_input": "2025-03-26T14:28:27.973200Z",
     "iopub.status.busy": "2025-03-26T14:28:27.972889Z",
     "iopub.status.idle": "2025-03-26T14:28:28.228487Z",
     "shell.execute_reply": "2025-03-26T14:28:28.227640Z",
     "shell.execute_reply.started": "2025-03-26T14:28:27.973170Z"
    }
   },
   "outputs": [],
   "source": [
    "train_path = '/kaggle/input/gsoc-pinn1/new_dataset_PINN/train'"
   ]
  },
  {
   "cell_type": "code",
   "execution_count": 11,
   "metadata": {
    "execution": {
     "iopub.execute_input": "2025-03-26T14:28:28.229385Z",
     "iopub.status.busy": "2025-03-26T14:28:28.229164Z",
     "iopub.status.idle": "2025-03-26T14:29:09.857505Z",
     "shell.execute_reply": "2025-03-26T14:29:09.856827Z",
     "shell.execute_reply.started": "2025-03-26T14:28:28.229366Z"
    }
   },
   "outputs": [],
   "source": [
    "class_folders = torchvision.datasets.ImageFolder(train_path,transform=transformer)"
   ]
  },
  {
   "cell_type": "code",
   "execution_count": 12,
   "metadata": {
    "execution": {
     "iopub.execute_input": "2025-03-26T14:29:09.858499Z",
     "iopub.status.busy": "2025-03-26T14:29:09.858264Z",
     "iopub.status.idle": "2025-03-26T14:29:09.865099Z",
     "shell.execute_reply": "2025-03-26T14:29:09.864403Z",
     "shell.execute_reply.started": "2025-03-26T14:29:09.858480Z"
    }
   },
   "outputs": [
    {
     "name": "stderr",
     "output_type": "stream",
     "text": [
      "/usr/local/lib/python3.10/dist-packages/torch/optim/lr_scheduler.py:62: UserWarning: The verbose parameter is deprecated. Please use get_last_lr() to access the learning rate.\n",
      "  warnings.warn(\n"
     ]
    }
   ],
   "source": [
    "from torch.optim.lr_scheduler import StepLR\n",
    "optimizer = torch.optim.SGD(encoder.parameters(), lr=0.01, weight_decay=0.0001)\n",
    "# Define the scheduler\n",
    "scheduler = StepLR(optimizer, step_size=10, gamma=0.1, verbose=True)"
   ]
  },
  {
   "cell_type": "code",
   "execution_count": 15,
   "metadata": {
    "execution": {
     "iopub.execute_input": "2025-03-26T14:29:09.900075Z",
     "iopub.status.busy": "2025-03-26T14:29:09.899889Z",
     "iopub.status.idle": "2025-03-26T15:45:01.265269Z",
     "shell.execute_reply": "2025-03-26T15:45:01.264339Z",
     "shell.execute_reply.started": "2025-03-26T14:29:09.900058Z"
    }
   },
   "outputs": [
    {
     "name": "stdout",
     "output_type": "stream",
     "text": [
      "Fold 1/10\n",
      "Epoch [1/3], Train Loss: 1.099, Train Accuracy: 0.344, Val Loss: 1.094, Validation Accuracy: 0.367\n",
      "Epoch [2/3], Train Loss: 1.075, Train Accuracy: 0.396, Val Loss: 1.102, Validation Accuracy: 0.374\n",
      "Epoch [3/3], Train Loss: 0.942, Train Accuracy: 0.515, Val Loss: 0.897, Validation Accuracy: 0.564\n",
      "Fold 2/10\n",
      "Epoch [1/3], Train Loss: 0.758, Train Accuracy: 0.652, Val Loss: 0.732, Validation Accuracy: 0.674\n",
      "Epoch [2/3], Train Loss: 0.623, Train Accuracy: 0.735, Val Loss: 0.749, Validation Accuracy: 0.702\n",
      "Epoch [3/3], Train Loss: 0.548, Train Accuracy: 0.771, Val Loss: 0.537, Validation Accuracy: 0.779\n",
      "Fold 3/10\n",
      "Epoch [1/3], Train Loss: 0.489, Train Accuracy: 0.803, Val Loss: 0.505, Validation Accuracy: 0.791\n",
      "Epoch [2/3], Train Loss: 0.449, Train Accuracy: 0.820, Val Loss: 0.641, Validation Accuracy: 0.767\n",
      "Epoch [3/3], Train Loss: 0.424, Train Accuracy: 0.831, Val Loss: 0.437, Validation Accuracy: 0.818\n",
      "Fold 4/10\n",
      "Epoch [1/3], Train Loss: 0.401, Train Accuracy: 0.842, Val Loss: 0.451, Validation Accuracy: 0.821\n",
      "Epoch [2/3], Train Loss: 0.381, Train Accuracy: 0.852, Val Loss: 0.673, Validation Accuracy: 0.775\n",
      "Epoch [3/3], Train Loss: 0.367, Train Accuracy: 0.856, Val Loss: 0.423, Validation Accuracy: 0.838\n",
      "Fold 5/10\n",
      "Epoch [1/3], Train Loss: 0.355, Train Accuracy: 0.862, Val Loss: 0.466, Validation Accuracy: 0.820\n",
      "Epoch [2/3], Train Loss: 0.337, Train Accuracy: 0.872, Val Loss: 0.438, Validation Accuracy: 0.823\n",
      "Epoch [3/3], Train Loss: 0.328, Train Accuracy: 0.873, Val Loss: 0.326, Validation Accuracy: 0.873\n",
      "Fold 6/10\n",
      "Epoch [1/3], Train Loss: 0.318, Train Accuracy: 0.877, Val Loss: 0.332, Validation Accuracy: 0.869\n",
      "Epoch [2/3], Train Loss: 0.305, Train Accuracy: 0.884, Val Loss: 0.282, Validation Accuracy: 0.889\n",
      "Epoch [3/3], Train Loss: 0.302, Train Accuracy: 0.885, Val Loss: 0.402, Validation Accuracy: 0.866\n",
      "Fold 7/10\n",
      "Epoch [1/3], Train Loss: 0.288, Train Accuracy: 0.890, Val Loss: 0.513, Validation Accuracy: 0.849\n",
      "Epoch [2/3], Train Loss: 0.278, Train Accuracy: 0.895, Val Loss: 0.439, Validation Accuracy: 0.826\n",
      "Epoch [3/3], Train Loss: 0.268, Train Accuracy: 0.898, Val Loss: 0.289, Validation Accuracy: 0.892\n",
      "Fold 8/10\n",
      "Epoch [1/3], Train Loss: 0.267, Train Accuracy: 0.900, Val Loss: 0.364, Validation Accuracy: 0.861\n",
      "Epoch [2/3], Train Loss: 0.254, Train Accuracy: 0.904, Val Loss: 0.423, Validation Accuracy: 0.846\n",
      "Epoch [3/3], Train Loss: 0.252, Train Accuracy: 0.907, Val Loss: 0.251, Validation Accuracy: 0.904\n",
      "Fold 9/10\n",
      "Epoch [1/3], Train Loss: 0.249, Train Accuracy: 0.906, Val Loss: 1.425, Validation Accuracy: 0.617\n",
      "Epoch [2/3], Train Loss: 0.243, Train Accuracy: 0.910, Val Loss: 0.344, Validation Accuracy: 0.863\n",
      "Epoch [3/3], Train Loss: 0.238, Train Accuracy: 0.912, Val Loss: 0.240, Validation Accuracy: 0.911\n",
      "Fold 10/10\n",
      "Epoch [1/3], Train Loss: 0.231, Train Accuracy: 0.912, Val Loss: 0.237, Validation Accuracy: 0.913\n",
      "Epoch [2/3], Train Loss: 0.228, Train Accuracy: 0.914, Val Loss: 0.223, Validation Accuracy: 0.912\n",
      "Epoch [3/3], Train Loss: 0.227, Train Accuracy: 0.916, Val Loss: 0.225, Validation Accuracy: 0.914\n",
      "Best Validation Accuracy: 0.9143333333333333\n"
     ]
    }
   ],
   "source": [
    "num_epochs = 3\n",
    "num_folds = 10\n",
    "best_accuracy = 0.0\n",
    "loss_fn = nn.CrossEntropyLoss()\n",
    "# Initialize KFold object\n",
    "kf = KFold(n_splits=num_folds, shuffle=True)\n",
    "\n",
    "# Loop through each fold\n",
    "for fold, (train_index, val_index) in enumerate(kf.split(class_folders)):\n",
    "    print(f\"Fold {fold + 1}/{num_folds}\")\n",
    "    \n",
    "    dataset_train = Subset(class_folders, train_index)\n",
    "    dataset_valid = Subset(class_folders, val_index)\n",
    "\n",
    "    train_loader = torch.utils.data.DataLoader(\n",
    "        dataset_train, batch_size=64, shuffle=True\n",
    "    )\n",
    "    val_loader = torch.utils.data.DataLoader(\n",
    "        dataset_valid, batch_size=32, shuffle=True\n",
    "    )\n",
    "    \n",
    "    # Training loop\n",
    "    for epoch in range(num_epochs):\n",
    "        # Set model to training mode\n",
    "        encoder.train()\n",
    "        \n",
    "        train_accuracy = 0.0\n",
    "        train_loss = 0.0\n",
    "        \n",
    "        for i, (images, labels) in enumerate(train_loader):\n",
    "            if torch.cuda.is_available():\n",
    "                images = images.cuda()\n",
    "                labels = labels.cuda()\n",
    "            \n",
    "            optimizer.zero_grad()\n",
    "            outputs = encoder(images)\n",
    "            loss = loss_fn(outputs, labels)\n",
    "            loss.backward()\n",
    "            optimizer.step()\n",
    "            \n",
    "            train_loss += loss.item() * images.size(0)\n",
    "            _, prediction = torch.max(outputs.data, 1)\n",
    "            train_accuracy += int(torch.sum(prediction == labels.data))\n",
    "        \n",
    "        train_accuracy = train_accuracy / len(train_index)\n",
    "        train_loss = train_loss / len(train_index)\n",
    "        \n",
    "        # Validation loop\n",
    "        encoder.eval()\n",
    "        \n",
    "        val_accuracy = 0.0\n",
    "        val_loss = 0.0\n",
    "        \n",
    "        for i, (images, labels) in enumerate(val_loader):\n",
    "            if torch.cuda.is_available():\n",
    "                images = images.cuda()\n",
    "                labels = labels.cuda()\n",
    "            \n",
    "            outputs = encoder(images)\n",
    "            loss = loss_fn(outputs, labels)\n",
    "            val_loss += loss.item()* images.size(0)  # Accumulate the loss\n",
    "            _, prediction = torch.max(outputs.data, 1)\n",
    "            val_accuracy += int(torch.sum(prediction == labels.data))\n",
    "            \n",
    "        # Compute average loss and accuracy\n",
    "        val_loss /= len(val_index)\n",
    "        val_accuracy = val_accuracy / len(val_index)\n",
    "        \n",
    "        print(f\"Epoch [{epoch + 1}/{num_epochs}], Train Loss: {train_loss:.3f}, Train Accuracy: {train_accuracy:.3f}, Val Loss: {val_loss:.3f}, Validation Accuracy: {val_accuracy:.3f}\")\n",
    "        \n",
    "        # Save the best model\n",
    "        if val_accuracy > best_accuracy:\n",
    "            torch.save(encoder.state_dict(), 'best_model.pth')\n",
    "            best_accuracy = val_accuracy\n",
    "            \n",
    "print(f\"Best Validation Accuracy: {best_accuracy}\")"
   ]
  },
  {
   "cell_type": "code",
   "execution_count": 16,
   "metadata": {
    "execution": {
     "iopub.execute_input": "2025-03-26T15:45:01.266661Z",
     "iopub.status.busy": "2025-03-26T15:45:01.266284Z",
     "iopub.status.idle": "2025-03-26T15:46:31.978376Z",
     "shell.execute_reply": "2025-03-26T15:46:31.977520Z",
     "shell.execute_reply.started": "2025-03-26T15:45:01.266630Z"
    }
   },
   "outputs": [
    {
     "data": {
      "image/png": "[encoded data removed]",
      "text/plain": [
       "<Figure size 640x480 with 1 Axes>"
      ]
     },
     "metadata": {},
     "output_type": "display_data"
    }
   ],
   "source": [
    "test_path='/kaggle/input/gsoc-pinn1/new_dataset_PINN/val'\n",
    "test_loader=DataLoader(\n",
    "    torchvision.datasets.ImageFolder(test_path,transform=transformer),\n",
    "    batch_size=32, shuffle=True\n",
    ")\n",
    "import numpy as np\n",
    "import matplotlib.pyplot as plt\n",
    "from sklearn.metrics import roc_curve, auc\n",
    "from sklearn.preprocessing import label_binarize\n",
    "\n",
    "y_score_list = []\n",
    "y_true_list = []\n",
    "\n",
    "# Evaluate model\n",
    "encoder.eval()\n",
    "for images, labels in test_loader:\n",
    "    if torch.cuda.is_available():\n",
    "        images = images.cuda()\n",
    "        labels = labels.cuda()\n",
    "\n",
    "    with torch.no_grad():\n",
    "        y_score_batch = encoder(images)\n",
    "    \n",
    "    y_score_list.append(y_score_batch.cpu().numpy())\n",
    "    y_true_list.append(labels.cpu().numpy())\n",
    "\n",
    "y_score = np.vstack(y_score_list)\n",
    "y_true = np.hstack(y_true_list)\n",
    "\n",
    "# Binarize the ground truth labels\n",
    "y_true_bin = label_binarize(y_true, classes=np.unique(y_true))\n",
    "\n",
    "# Compute ROC curve and ROC area for each class\n",
    "n_classes = y_score.shape[1]\n",
    "fpr = dict()\n",
    "tpr = dict()\n",
    "roc_auc = dict()\n",
    "\n",
    "for i in range(n_classes):\n",
    "    fpr[i], tpr[i], _ = roc_curve(y_true_bin[:, i], y_score[:, i])\n",
    "    roc_auc[i] = auc(fpr[i], tpr[i])\n",
    "\n",
    "# Compute micro-average ROC curve and ROC area\n",
    "fpr[\"micro\"], tpr[\"micro\"], _ = roc_curve(y_true_bin.ravel(), y_score.ravel())\n",
    "roc_auc[\"micro\"] = auc(fpr[\"micro\"], tpr[\"micro\"])\n",
    "\n",
    "# Plot ROC curve\n",
    "plt.figure()\n",
    "plt.plot(fpr[\"micro\"], tpr[\"micro\"], color='deeppink', lw=2, label=f'ROC curve (micro-AUC = {roc_auc[\"micro\"]:0.2f})')\n",
    "plt.plot([0, 1], [0, 1], color='navy', lw=2, linestyle='--')\n",
    "plt.xlim([0.0, 1.0])\n",
    "plt.ylim([0.0, 1.05])\n",
    "plt.xlabel('False Positive Rate')\n",
    "plt.ylabel('True Positive Rate')\n",
    "plt.title('Receiver Operating Characteristic (ROC) Curve (Multiclass)')\n",
    "plt.legend(loc='lower right')\n",
    "plt.show()"
   ]
  },
  {
   "cell_type": "code",
   "execution_count": null,
   "metadata": {},
   "outputs": [],
   "source": [
    "# Due to large size of weigths\n",
    "import zipfile\n",
    "\n",
    "with zipfile.ZipFile(\"model_weights.zip\", \"w\", zipfile.ZIP_DEFLATED) as zf:\n",
    "    zf.write(\"model_weights.pth\")"
   ]
  }
 ],
 "metadata": {
  "kaggle": {
   "accelerator": "gpu",
   "dataSources": [
    {
     "datasetId": 6955982,
     "sourceId": 11149553,
     "sourceType": "datasetVersion"
    }
   ],
   "dockerImageVersionId": 30919,
   "isGpuEnabled": true,
   "isInternetEnabled": true,
   "language": "python",
   "sourceType": "notebook"
  },
  "kernelspec": {
   "display_name": "Python 3 (ipykernel)",
   "language": "python",
   "name": "python3"
  },
  "language_info": {
   "codemirror_mode": {
    "name": "ipython",
    "version": 3
   },
   "file_extension": ".py",
   "mimetype": "text/x-python",
   "name": "python",
   "nbconvert_exporter": "python",
   "pygments_lexer": "ipython3",
   "version": "3.8.18"
  }
 },
 "nbformat": 4,
 "nbformat_minor": 4
}
