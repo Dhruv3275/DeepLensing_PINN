{
 "cells": [
  {
   "cell_type": "code",
   "execution_count": null,
   "metadata": {},
   "outputs": [],
   "source": [
    "import numpy as np\n",
    "import matplotlib.pyplot as plt\n",
    "import torch\n",
    "from torch import nn \n",
    "import torchvision\n",
    "import torchvision.transforms as transforms\n",
    "from torchvision.datasets import ImageFolder\n",
    "import torchvision.models as models\n",
    "from torch.utils.data import TensorDataset, ConcatDataset, DataLoader,Subset\n",
    "from sklearn.model_selection import KFold\n",
    "import os\n",
    "from torchinfo import summary"
   ]
  },
  {
   "cell_type": "code",
   "execution_count": null,
   "metadata": {},
   "outputs": [],
   "source": [
    "device = \"cuda\" if torch.cuda.is_available() else \"cpu\""
   ]
  },
  {
   "cell_type": "code",
   "execution_count": null,
   "metadata": {},
   "outputs": [],
   "source": [
    "# ResNet 10 Approach"
   ]
  },
  {
   "cell_type": "code",
   "execution_count": 6,
   "metadata": {
    "execution": {
     "iopub.execute_input": "2025-03-25T12:14:56.319100Z",
     "iopub.status.busy": "2025-03-25T12:14:56.318903Z",
     "iopub.status.idle": "2025-03-25T12:14:57.373003Z",
     "shell.execute_reply": "2025-03-25T12:14:57.372335Z",
     "shell.execute_reply.started": "2025-03-25T12:14:56.319083Z"
    }
   },
   "outputs": [],
   "source": [
    "import timm\n",
    "class Resnet10(nn.Module):\n",
    "    def __init__(self, num_classes=3):\n",
    "        super(Resnet10, self).__init__()   \n",
    "        self.resnet10 = timm.create_model(\"resnet10t\", pretrained=True)\n",
    "\n",
    "        # Replace the fully connected layer for classification\n",
    "        in_features = self.resnet10.get_classifier().in_features\n",
    "        self.resnet10.fc = nn.Linear(in_features, num_classes)\n",
    "\n",
    "    def forward(self, x):\n",
    "        return self.resnet10(x) \n"
   ]
  },
  {
   "cell_type": "code",
   "execution_count": 8,
   "metadata": {
    "execution": {
     "iopub.execute_input": "2025-03-25T12:14:57.379933Z",
     "iopub.status.busy": "2025-03-25T12:14:57.379716Z",
     "iopub.status.idle": "2025-03-25T12:14:57.399245Z",
     "shell.execute_reply": "2025-03-25T12:14:57.398596Z",
     "shell.execute_reply.started": "2025-03-25T12:14:57.379914Z"
    }
   },
   "outputs": [],
   "source": [
    "torch.cuda.empty_cache()"
   ]
  },
  {
   "cell_type": "code",
   "execution_count": 9,
   "metadata": {
    "execution": {
     "iopub.execute_input": "2025-03-25T12:14:57.400324Z",
     "iopub.status.busy": "2025-03-25T12:14:57.400069Z",
     "iopub.status.idle": "2025-03-25T12:14:57.753495Z",
     "shell.execute_reply": "2025-03-25T12:14:57.752421Z",
     "shell.execute_reply.started": "2025-03-25T12:14:57.400305Z"
    }
   },
   "outputs": [],
   "source": [
    "encoder = Resnet10(num_classes=3).to(device)\n"
   ]
  },
  {
   "cell_type": "code",
   "execution_count": 13,
   "metadata": {
    "execution": {
     "iopub.execute_input": "2025-03-25T12:15:24.412188Z",
     "iopub.status.busy": "2025-03-25T12:15:24.411875Z",
     "iopub.status.idle": "2025-03-25T12:15:24.416750Z",
     "shell.execute_reply": "2025-03-25T12:15:24.415779Z",
     "shell.execute_reply.started": "2025-03-25T12:15:24.412163Z"
    }
   },
   "outputs": [],
   "source": [
    "transformer=transforms.Compose([\n",
    "    transforms.Resize((150,150)),\n",
    "    transforms.RandomHorizontalFlip(),\n",
    "    transforms.RandomRotation(degrees=10),\n",
    "    transforms.ToTensor(),  #0-255 to 0-1, numpy to tensors\n",
    "    transforms.Normalize([0.5,0.5,0.5], # 0-1 to [-1,1] , formula (x-mean)/std\n",
    "                        [0.5,0.5,0.5])\n",
    "])"
   ]
  },
  {
   "cell_type": "code",
   "execution_count": 14,
   "metadata": {
    "execution": {
     "iopub.execute_input": "2025-03-25T12:15:25.479894Z",
     "iopub.status.busy": "2025-03-25T12:15:25.479581Z",
     "iopub.status.idle": "2025-03-25T12:15:25.483566Z",
     "shell.execute_reply": "2025-03-25T12:15:25.482649Z",
     "shell.execute_reply.started": "2025-03-25T12:15:25.479870Z"
    }
   },
   "outputs": [],
   "source": [
    "# Mentioning training path\n",
    "train_path = '/kaggle/input/gsoc123/new_dataset/train'"
   ]
  },
  {
   "cell_type": "code",
   "execution_count": 15,
   "metadata": {
    "execution": {
     "iopub.execute_input": "2025-03-25T12:15:25.811994Z",
     "iopub.status.busy": "2025-03-25T12:15:25.811716Z",
     "iopub.status.idle": "2025-03-25T12:16:06.613229Z",
     "shell.execute_reply": "2025-03-25T12:16:06.612526Z",
     "shell.execute_reply.started": "2025-03-25T12:15:25.811973Z"
    }
   },
   "outputs": [],
   "source": [
    "class_folders = torchvision.datasets.ImageFolder(train_path,transform=transformer)"
   ]
  },
  {
   "cell_type": "code",
   "execution_count": 16,
   "metadata": {
    "execution": {
     "iopub.execute_input": "2025-03-25T12:16:06.614534Z",
     "iopub.status.busy": "2025-03-25T12:16:06.614307Z",
     "iopub.status.idle": "2025-03-25T12:16:06.617959Z",
     "shell.execute_reply": "2025-03-25T12:16:06.617130Z",
     "shell.execute_reply.started": "2025-03-25T12:16:06.614515Z"
    }
   },
   "outputs": [],
   "source": [
    "from torch.optim.lr_scheduler import StepLR\n",
    "# Define the scheduler\n"
   ]
  },
  {
   "cell_type": "code",
   "execution_count": 17,
   "metadata": {
    "execution": {
     "iopub.execute_input": "2025-03-25T12:16:06.619897Z",
     "iopub.status.busy": "2025-03-25T12:16:06.619698Z",
     "iopub.status.idle": "2025-03-25T12:16:06.637353Z",
     "shell.execute_reply": "2025-03-25T12:16:06.636704Z",
     "shell.execute_reply.started": "2025-03-25T12:16:06.619880Z"
    }
   },
   "outputs": [],
   "source": [
    "def CNN_train(epochs,class_folders, num_folds, lr):\n",
    "    loss_fn = nn.CrossEntropyLoss()\n",
    "    train_acc_values = []\n",
    "    best_accuracy = 0.0\n",
    "    test_acc_values = []\n",
    "    num_epochs = epochs\n",
    "    epoch_count = []\n",
    "    iteration_details = [] \n",
    "    optimizer = torch.optim.Adam(encoder.parameters(), lr=lr, weight_decay=1e-4)\n",
    "    scheduler = StepLR(optimizer, step_size=10, gamma=0.1, verbose=True)\n",
    "\n",
    "    # Initialize KFold object\n",
    "    kf = KFold(n_splits=num_folds, shuffle=True)\n",
    "    \n",
    "    # Loop through each fold\n",
    "    for fold, (train_index, val_index) in enumerate(kf.split(class_folders)):\n",
    "        print(f\"Fold {fold + 1}/{num_folds}\")\n",
    "        \n",
    "        dataset_train = Subset(class_folders, train_index)\n",
    "        dataset_valid = Subset(class_folders, val_index)\n",
    "    \n",
    "        train_loader = torch.utils.data.DataLoader(\n",
    "            dataset_train, batch_size=64, shuffle=True\n",
    "        )\n",
    "        val_loader = torch.utils.data.DataLoader(\n",
    "            dataset_valid, batch_size=32, shuffle=True\n",
    "        )\n",
    "        \n",
    "        # Training loop\n",
    "        for epoch in range(num_epochs):\n",
    "            # Set model to training mode\n",
    "            encoder.train()\n",
    "            \n",
    "            train_accuracy = 0.0\n",
    "            train_loss = 0.0\n",
    "            \n",
    "            for i, (images, labels) in enumerate(train_loader):\n",
    "                if torch.cuda.is_available():\n",
    "                    images = images.cuda()\n",
    "                    labels = labels.cuda()\n",
    "                \n",
    "                optimizer.zero_grad()\n",
    "                outputs = encoder(images)\n",
    "                loss = loss_fn(outputs, labels)\n",
    "                loss.backward()\n",
    "                optimizer.step()\n",
    "                \n",
    "                train_loss += loss.item() * images.size(0)\n",
    "                _, prediction = torch.max(outputs.data, 1)\n",
    "                train_accuracy += int(torch.sum(prediction == labels.data))\n",
    "            \n",
    "            train_accuracy = train_accuracy / len(train_index)\n",
    "            train_loss = train_loss / len(train_index)\n",
    "            \n",
    "            # Validation loop\n",
    "            encoder.eval()\n",
    "            \n",
    "            val_accuracy = 0.0\n",
    "            val_loss = 0.0\n",
    "            \n",
    "            for i, (images, labels) in enumerate(val_loader):\n",
    "                if torch.cuda.is_available():\n",
    "                    images = images.cuda()\n",
    "                    labels = labels.cuda()\n",
    "                \n",
    "                outputs = encoder(images)\n",
    "                loss = loss_fn(outputs, labels)\n",
    "                val_loss += loss.item()* images.size(0)  # Accumulate the loss\n",
    "                _, prediction = torch.max(outputs.data, 1)\n",
    "                val_accuracy += int(torch.sum(prediction == labels.data))\n",
    "                \n",
    "            # Compute average loss and accuracy\n",
    "            val_loss /= len(val_index)\n",
    "            val_accuracy = val_accuracy / len(val_index)\n",
    "            \n",
    "            # Step the scheduler\n",
    "            scheduler.step()\n",
    "            \n",
    "            print(f\"Epoch [{epoch + 1}/{num_epochs}], Train Loss: {train_loss:.3f}, Train Accuracy: {train_accuracy:.3f}, Val Loss: {val_loss:.3f}, Validation Accuracy: {val_accuracy:.3f}\")\n",
    "            \n",
    "            # Save the best model\n",
    "            if val_accuracy > best_accuracy:\n",
    "                torch.save(encoder.state_dict(), 'best_model.pth')\n",
    "                best_accuracy = val_accuracy\n",
    "                \n",
    "    print(f\"Best Validation Accuracy: {best_accuracy}\")"
   ]
  },
  {
   "cell_type": "code",
   "execution_count": 18,
   "metadata": {
    "execution": {
     "iopub.execute_input": "2025-03-25T12:16:06.638660Z",
     "iopub.status.busy": "2025-03-25T12:16:06.638374Z",
     "iopub.status.idle": "2025-03-25T13:03:44.448906Z",
     "shell.execute_reply": "2025-03-25T13:03:44.448011Z",
     "shell.execute_reply.started": "2025-03-25T12:16:06.638633Z"
    }
   },
   "outputs": [
    {
     "name": "stderr",
     "output_type": "stream",
     "text": [
      "/usr/local/lib/python3.10/dist-packages/torch/optim/lr_scheduler.py:62: UserWarning: The verbose parameter is deprecated. Please use get_last_lr() to access the learning rate.\n",
      "  warnings.warn(\n"
     ]
    },
    {
     "name": "stdout",
     "output_type": "stream",
     "text": [
      "Fold 1/10\n",
      "Epoch [1/3], Train Loss: 1.094, Train Accuracy: 0.361, Val Loss: 1.136, Validation Accuracy: 0.355\n",
      "Epoch [2/3], Train Loss: 0.966, Train Accuracy: 0.496, Val Loss: 1.014, Validation Accuracy: 0.507\n",
      "Epoch [3/3], Train Loss: 0.721, Train Accuracy: 0.674, Val Loss: 0.586, Validation Accuracy: 0.758\n",
      "Fold 2/10\n",
      "Epoch [1/3], Train Loss: 0.526, Train Accuracy: 0.783, Val Loss: 0.492, Validation Accuracy: 0.802\n",
      "Epoch [2/3], Train Loss: 0.445, Train Accuracy: 0.823, Val Loss: 0.479, Validation Accuracy: 0.829\n",
      "Epoch [3/3], Train Loss: 0.403, Train Accuracy: 0.843, Val Loss: 0.521, Validation Accuracy: 0.782\n",
      "Fold 3/10\n",
      "Epoch [1/3], Train Loss: 0.366, Train Accuracy: 0.857, Val Loss: 0.473, Validation Accuracy: 0.837\n",
      "Epoch [2/3], Train Loss: 0.350, Train Accuracy: 0.866, Val Loss: 0.365, Validation Accuracy: 0.862\n",
      "Epoch [3/3], Train Loss: 0.327, Train Accuracy: 0.875, Val Loss: 0.454, Validation Accuracy: 0.814\n",
      "Fold 4/10\n",
      "Epoch [1/3], Train Loss: 0.319, Train Accuracy: 0.879, Val Loss: 0.391, Validation Accuracy: 0.867\n",
      "Epoch [2/3], Train Loss: 0.244, Train Accuracy: 0.909, Val Loss: 0.217, Validation Accuracy: 0.921\n",
      "Epoch [3/3], Train Loss: 0.228, Train Accuracy: 0.917, Val Loss: 0.203, Validation Accuracy: 0.926\n",
      "Fold 5/10\n",
      "Epoch [1/3], Train Loss: 0.221, Train Accuracy: 0.918, Val Loss: 0.213, Validation Accuracy: 0.922\n",
      "Epoch [2/3], Train Loss: 0.212, Train Accuracy: 0.922, Val Loss: 0.198, Validation Accuracy: 0.923\n",
      "Epoch [3/3], Train Loss: 0.209, Train Accuracy: 0.924, Val Loss: 0.209, Validation Accuracy: 0.921\n",
      "Fold 6/10\n",
      "Epoch [1/3], Train Loss: 0.206, Train Accuracy: 0.923, Val Loss: 0.176, Validation Accuracy: 0.933\n",
      "Epoch [2/3], Train Loss: 0.196, Train Accuracy: 0.927, Val Loss: 0.180, Validation Accuracy: 0.935\n",
      "Epoch [3/3], Train Loss: 0.195, Train Accuracy: 0.928, Val Loss: 0.177, Validation Accuracy: 0.939\n",
      "Fold 7/10\n",
      "Epoch [1/3], Train Loss: 0.188, Train Accuracy: 0.931, Val Loss: 0.177, Validation Accuracy: 0.935\n",
      "Epoch [2/3], Train Loss: 0.183, Train Accuracy: 0.934, Val Loss: 0.170, Validation Accuracy: 0.934\n",
      "Epoch [3/3], Train Loss: 0.175, Train Accuracy: 0.935, Val Loss: 0.167, Validation Accuracy: 0.938\n",
      "Fold 8/10\n",
      "Epoch [1/3], Train Loss: 0.170, Train Accuracy: 0.938, Val Loss: 0.160, Validation Accuracy: 0.944\n",
      "Epoch [2/3], Train Loss: 0.169, Train Accuracy: 0.938, Val Loss: 0.166, Validation Accuracy: 0.938\n",
      "Epoch [3/3], Train Loss: 0.172, Train Accuracy: 0.937, Val Loss: 0.162, Validation Accuracy: 0.939\n",
      "Fold 9/10\n",
      "Epoch [1/3], Train Loss: 0.169, Train Accuracy: 0.939, Val Loss: 0.161, Validation Accuracy: 0.945\n",
      "Epoch [2/3], Train Loss: 0.165, Train Accuracy: 0.939, Val Loss: 0.164, Validation Accuracy: 0.939\n",
      "Epoch [3/3], Train Loss: 0.168, Train Accuracy: 0.938, Val Loss: 0.163, Validation Accuracy: 0.936\n",
      "Fold 10/10\n",
      "Epoch [1/3], Train Loss: 0.163, Train Accuracy: 0.941, Val Loss: 0.160, Validation Accuracy: 0.939\n",
      "Epoch [2/3], Train Loss: 0.163, Train Accuracy: 0.941, Val Loss: 0.154, Validation Accuracy: 0.940\n",
      "Epoch [3/3], Train Loss: 0.161, Train Accuracy: 0.941, Val Loss: 0.167, Validation Accuracy: 0.936\n",
      "Best Validation Accuracy: 0.9446666666666667\n"
     ]
    }
   ],
   "source": [
    "results =CNN_train(3,class_folders,10,0.001)"
   ]
  },
  {
   "cell_type": "code",
   "execution_count": 20,
   "metadata": {
    "execution": {
     "iopub.execute_input": "2025-03-25T13:03:44.455459Z",
     "iopub.status.busy": "2025-03-25T13:03:44.455243Z",
     "iopub.status.idle": "2025-03-25T13:04:41.711092Z",
     "shell.execute_reply": "2025-03-25T13:04:41.710136Z",
     "shell.execute_reply.started": "2025-03-25T13:03:44.455440Z"
    }
   },
   "outputs": [
    {
     "data": {
      "image/png": "[encoded data removed]",
      "text/plain": [
       "<Figure size 640x480 with 1 Axes>"
      ]
     },
     "metadata": {},
     "output_type": "display_data"
    }
   ],
   "source": [
    "test_path='/kaggle/input/gsoc123/new_dataset/val'\n",
    "test_loader=DataLoader(\n",
    "    torchvision.datasets.ImageFolder(test_path,transform=transformer),\n",
    "    batch_size=32, shuffle=True\n",
    ")\n",
    "import numpy as np\n",
    "import matplotlib.pyplot as plt\n",
    "from sklearn.metrics import roc_curve, auc\n",
    "from sklearn.preprocessing import label_binarize\n",
    "\n",
    "# Assuming model is already defined and moved to GPU if available\n",
    "\n",
    "# Assuming transformer is defined\n",
    "\n",
    "# Assuming test_loader is defined\n",
    "\n",
    "y_score_list = []\n",
    "y_true_list = []\n",
    "\n",
    "# Evaluate model\n",
    "encoder.eval()\n",
    "for images, labels in test_loader:\n",
    "    if torch.cuda.is_available():\n",
    "        images = images.cuda()\n",
    "        labels = labels.cuda()\n",
    "\n",
    "    with torch.no_grad():\n",
    "        y_score_batch = encoder(images)\n",
    "    \n",
    "    y_score_list.append(y_score_batch.cpu().numpy())\n",
    "    y_true_list.append(labels.cpu().numpy())\n",
    "\n",
    "y_score = np.vstack(y_score_list)\n",
    "y_true = np.hstack(y_true_list)\n",
    "\n",
    "# Binarize the ground truth labels\n",
    "y_true_bin = label_binarize(y_true, classes=np.unique(y_true))\n",
    "\n",
    "# Compute ROC curve and ROC area for each class\n",
    "n_classes = y_score.shape[1]\n",
    "fpr = dict()\n",
    "tpr = dict()\n",
    "roc_auc = dict()\n",
    "\n",
    "for i in range(n_classes):\n",
    "    fpr[i], tpr[i], _ = roc_curve(y_true_bin[:, i], y_score[:, i])\n",
    "    roc_auc[i] = auc(fpr[i], tpr[i])\n",
    "\n",
    "# Compute micro-average ROC curve and ROC area\n",
    "fpr[\"micro\"], tpr[\"micro\"], _ = roc_curve(y_true_bin.ravel(), y_score.ravel())\n",
    "roc_auc[\"micro\"] = auc(fpr[\"micro\"], tpr[\"micro\"])\n",
    "\n",
    "# Plot ROC curve\n",
    "plt.figure()\n",
    "plt.plot(fpr[\"micro\"], tpr[\"micro\"], color='deeppink', lw=2, label=f'ROC curve (micro-AUC = {roc_auc[\"micro\"]:0.2f})')\n",
    "plt.plot([0, 1], [0, 1], color='navy', lw=2, linestyle='--')\n",
    "plt.xlim([0.0, 1.0])\n",
    "plt.ylim([0.0, 1.05])\n",
    "plt.xlabel('False Positive Rate')\n",
    "plt.ylabel('True Positive Rate')\n",
    "plt.title('Receiver Operating Characteristic (ROC) Curve (Multiclass)')\n",
    "plt.legend(loc='lower right')\n",
    "plt.show()"
   ]
  }
 ],
 "metadata": {
  "kaggle": {
   "accelerator": "nvidiaTeslaT4",
   "dataSources": [
    {
     "datasetId": 6940750,
     "sourceId": 11129051,
     "sourceType": "datasetVersion"
    }
   ],
   "dockerImageVersionId": 30919,
   "isGpuEnabled": true,
   "isInternetEnabled": true,
   "language": "python",
   "sourceType": "notebook"
  },
  "kernelspec": {
   "display_name": "Python 3 (ipykernel)",
   "language": "python",
   "name": "python3"
  },
  "language_info": {
   "codemirror_mode": {
    "name": "ipython",
    "version": 3
   },
   "file_extension": ".py",
   "mimetype": "text/x-python",
   "name": "python",
   "nbconvert_exporter": "python",
   "pygments_lexer": "ipython3",
   "version": "3.8.18"
  }
 },
 "nbformat": 4,
 "nbformat_minor": 4
}
